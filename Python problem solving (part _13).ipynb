{
 "cells": [
  {
   "cell_type": "markdown",
   "id": "c542b155",
   "metadata": {},
   "source": [
    "# Dictionary Problems:"
   ]
  },
  {
   "cell_type": "markdown",
   "id": "fc9b1b35",
   "metadata": {},
   "source": [
    "79. Dictionary Manipulation: Given a dictionary with student names as keys and their corresponding scores as values, write a Python program to add a new student to the dictionary and update the score of an existing student."
   ]
  },
  {
   "cell_type": "code",
   "execution_count": null,
   "id": "b2126f16",
   "metadata": {},
   "outputs": [],
   "source": [
    "student_scores = {'Alice': 90, 'Bob': 85, 'Charlie': 95}\n",
    "def add_or_update_student(dictionary, student_name, new_score):\n",
    "    dictionary[student_name] = new_score\n",
    "new_student_name = input(\"Enter the name of the new student: \")\n",
    "new_student_score = int(input(f\"Enter the score for {new_student_name}: \"))\n",
    "if new_student_name in student_scores:\n",
    "    print(f\"Updating the score for {new_student_name}...\")\n",
    "else:\n",
    "    print(f\"Adding {new_student_name} to the dictionary...\")\n",
    "add_or_update_student(student_scores, new_student_name, new_student_score)\n",
    "print(\"\\nUpdated Student Scores:\")\n",
    "for student, score in student_scores.items():\n",
    "    print(f\"{student}: {score}\")"
   ]
  },
  {
   "cell_type": "markdown",
   "id": "d2cf8b08",
   "metadata": {},
   "source": [
    "# 80. Dictionary Keys and Values: Write a Python program that takes a dictionary as input and prints all the keys and values in separate lines."
   ]
  },
  {
   "cell_type": "code",
   "execution_count": null,
   "id": "f43857a8",
   "metadata": {},
   "outputs": [],
   "source": [
    "def print_dict_keys_and_values(input_dict):\n",
    "    print(\"Keys:\")\n",
    "    for key in input_dict.keys():\n",
    "        print(key)\n",
    "\n",
    "    print(\"\\nValues:\")\n",
    "    for value in input_dict.values():\n",
    "        print(value)\n",
    "input_dict_str = input(\"Enter a dictionary in the format {'key1': value1, 'key2': value2, ...}: \")\n",
    "user_dict = eval(input_dict_str)  \n",
    "print_dict_keys_and_values(user_dict)"
   ]
  },
  {
   "cell_type": "markdown",
   "id": "3db5f681",
   "metadata": {},
   "source": [
    "# 81. Dictionary Length: Write a Python program to calculate and print the number of key-value pairs in a given dictionary."
   ]
  },
  {
   "cell_type": "code",
   "execution_count": null,
   "id": "1e9c8a3e",
   "metadata": {},
   "outputs": [],
   "source": [
    "def count_key_value_pairs(input_dict):\n",
    "    return len(input_dict)\n",
    "input_dict_str = input(\"Enter a dictionary in the format {'key1': value1, 'key2': value2, ...}: \")\n",
    "user_dict = eval(input_dict_str) \n",
    "num_pairs = count_key_value_pairs(user_dict)\n",
    "print(\"Number of Key-Value Pairs in the Dictionary:\", num_pairs)"
   ]
  },
  {
   "cell_type": "markdown",
   "id": "c7281cf3",
   "metadata": {},
   "source": [
    "# 82. Dictionary Value Search: Given a dictionary of items and their prices, write a Python program to search for an item based on its price and print the item’s name."
   ]
  },
  {
   "cell_type": "code",
   "execution_count": null,
   "id": "7dd31204",
   "metadata": {},
   "outputs": [],
   "source": [
    "def search_item_by_price(item_dict, target_price):\n",
    "    for item, price in item_dict.items():\n",
    "        if price == target_price:\n",
    "            return item\n",
    "    return None  \n",
    "items_prices = {'item1': 10, 'item2': 20, 'item3': 15, 'item4': 25}\n",
    "target_price = int(input(\"Enter the price to search for an item: \"))\n",
    "result_item = search_item_by_price(items_prices, target_price)\n",
    "if result_item:\n",
    "    print(f\"The item with price {target_price} is: {result_item}\")\n",
    "else:\n",
    "    print(f\"No item found with price {target_price}\")\n"
   ]
  },
  {
   "cell_type": "code",
   "execution_count": null,
   "id": "c47c6f86",
   "metadata": {},
   "outputs": [],
   "source": []
  }
 ],
 "metadata": {
  "kernelspec": {
   "display_name": "Python 3 (ipykernel)",
   "language": "python",
   "name": "python3"
  },
  "language_info": {
   "codemirror_mode": {
    "name": "ipython",
    "version": 3
   },
   "file_extension": ".py",
   "mimetype": "text/x-python",
   "name": "python",
   "nbconvert_exporter": "python",
   "pygments_lexer": "ipython3",
   "version": "3.11.5"
  }
 },
 "nbformat": 4,
 "nbformat_minor": 5
}
